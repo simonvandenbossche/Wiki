{
 "cells": [
  {
   "cell_type": "markdown",
   "metadata": {},
   "source": [
    "## A guide to install and use python\n",
    "\n",
    "### BerryConda\n",
    "\n",
    "Berryconda is a conda based Python distribution for the Raspberry Pi.\n",
    "\n",
    "#### Install\n",
    "Sources: [berryconda](https://github.com/jjhelmus/berryconda|BerryConda), [environment](https://stackoverflow.com/questions/39371772/how-to-install-anaconda-on-raspberry-pi-3-model-b)\n",
    "  - Download correct version (BerryConda will be installed in the folder where you run one of the following commands):\n",
    "    * Raspberry Pi Zero or 1\n",
    "      * Python 2:\n",
    "```bash\n",
    "wget https://github.com/jjhelmus/berryconda/releases/download/v2.0.0/Berryconda2-2.0.0-Linux-armv6l.sh</code>\n",
    "```\n",
    "      * Python 3:\n",
    "```bash\n",
    "wget https://github.com/jjhelmus/berryconda/releases/download/v2.0.0/Berryconda3-2.0.0-Linux-armv6l.sh</code>\n",
    "```\n",
    "    * Raspberry Pi 2 or 3\n",
    "      * Python 2:\n",
    "```bash\n",
    "wget https://github.com/jjhelmus/berryconda/releases/download/v2.0.0/Berryconda2-2.0.0-Linux-armv7l.sh</code>\n",
    "```\n",
    "      * Python 3:\n",
    "```bash\n",
    "wget https://github.com/jjhelmus/berryconda/releases/download/v2.0.0/Berryconda3-2.0.0-Linux-armv7l.sh</code>\n",
    "```\n",
    "  - Make the file executable and install it\n",
    "```bash\n",
    "chmod +x Berryconda3-2.0.0-Linux-armv7l.sh\n",
    "./Berryconda3-2.0.0-Linux-armv7l.sh\n",
    "```\n",
    "  - Add conda command to pi <code>export PATH=\"/home/pi/berryconda3/bin\"</code>\n",
    "  - Install new version of python\n",
    "    - Install new version (Can be any available version, I used 3.6 as example)\n",
    "```bash\n",
    "conda config --add channels rpi\n",
    "conda install python=3.6\n",
    "```\n",
    "    - Create environment\n",
    "```bash\n",
    "conda create --name py36 python=3.6\n",
    "```\n",
    "    - Activation/decativation\n",
    "```bash\n",
    "source activate py36\n",
    "source deactivate\n",
    "```\n",
    "  - Install RPi.GPIO (optional, in activated environment)\n",
    "```bash\n",
    "pip install rpi.gpio\n",
    "```\n"
   ]
  }
 ],
 "metadata": {
  "kernelspec": {
   "display_name": "Python 3",
   "language": "python",
   "name": "python3"
  },
  "language_info": {
   "codemirror_mode": {
    "name": "ipython",
    "version": 3
   },
   "file_extension": ".py",
   "mimetype": "text/x-python",
   "name": "python",
   "nbconvert_exporter": "python",
   "pygments_lexer": "ipython3",
   "version": "3.7.6"
  }
 },
 "nbformat": 4,
 "nbformat_minor": 4
}