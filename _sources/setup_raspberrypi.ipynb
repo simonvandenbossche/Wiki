{
 "cells": [
  {
   "cell_type": "markdown",
   "metadata": {},
   "source": [
    "## A setup guide for the Raspberry Pi\n",
    "\n",
    "1. Download the [Raspbian Image](https://www.raspberrypi.org/downloads/raspbian/)<br>\n",
    "    - Raspbian Buster with desktop and recommended software: Can have a lot of trash.\n",
    "    - Raspbian Buster with desktop: Allow screen to be used\n",
    "    - Raspbian Buster Lite: Minimal version with no desktop, recommended.\n",
    "<br>\n",
    "<br>\n",
    "2. Format the SD-card using [SD card formatter](https://www.sdcard.org/downloads/formatter/)\n",
    "3. Write the image to the SD-card  using [Win32DiskImager](https://sourceforge.net/projects/win32diskimager/files/latest/download)\n",
    "4. Preconfigure [ssh]() (optional)\n",
    "5. > Login: `pi`<br>\n",
    "    password: `raspberry`<br>\n",
    "    - To set a new password use\n",
    "    ```bash\n",
    "    passwd\n",
    "    ```\n",
    "6. Update and upgrade (this may take a while)\n",
    "```bash\n",
    "sudo apt update\n",
    "sudo apt full-upgrade\n",
    "```"
   ]
  }
 ],
 "metadata": {
  "kernelspec": {
   "display_name": "Python 3",
   "language": "python",
   "name": "python3"
  },
  "language_info": {
   "codemirror_mode": {
    "name": "ipython",
    "version": 3
   },
   "file_extension": ".py",
   "mimetype": "text/x-python",
   "name": "python",
   "nbconvert_exporter": "python",
   "pygments_lexer": "ipython3",
   "version": "3.7.6"
  }
 },
 "nbformat": 4,
 "nbformat_minor": 4
}
